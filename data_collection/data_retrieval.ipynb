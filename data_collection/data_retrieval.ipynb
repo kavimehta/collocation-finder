{
 "cells": [
  {
   "cell_type": "code",
   "execution_count": 1,
   "metadata": {
    "collapsed": true
   },
   "outputs": [],
   "source": [
    "import pandas as pd\n",
    "import collections\n",
    "from eventregistry import *"
   ]
  },
  {
   "cell_type": "code",
   "execution_count": 2,
   "metadata": {},
   "outputs": [
    {
     "name": "stdout",
     "output_type": "stream",
     "text": [
      "using user provided API key for making requests\n",
      "Event Registry host: http://eventregistry.org\n",
      "Text analytics host: http://analytics.eventregistry.org\n"
     ]
    }
   ],
   "source": [
    "er = EventRegistry(apiKey = \"d986a32c-55e1-4149-b841-1d1606fe2850\")\n",
    "conservative_sources = [\"Breitbart\", \n",
    "                        \"Fox News\", \n",
    "                        \"National Review\", \n",
    "                        \"The American Conservative\", \n",
    "                        \"New York Post\", \n",
    "                        \"Washington Times\"]\n",
    "\n",
    "liberal_sources = [\"The New York Times\", \n",
    "                   \"Washington Post\", \n",
    "                   \"San Francisco Gate\", \n",
    "                   \"HuffPost\", \n",
    "                   \"The Economist\"]"
   ]
  },
  {
   "cell_type": "code",
   "execution_count": 8,
   "metadata": {
    "collapsed": true
   },
   "outputs": [],
   "source": [
    "### SETTINGS ###\n",
    "\n",
    "# 1. Set sources to either conservative_sources or liberal_sources\n",
    "sources = liberal_sources\n",
    "\n",
    "# 2. Set the output file name\n",
    "output_file = 'NP_articles_2018-2019.csv'"
   ]
  },
  {
   "cell_type": "code",
   "execution_count": null,
   "metadata": {},
   "outputs": [
    {
     "name": "stdout",
     "output_type": "stream",
     "text": [
      "=========== WARNING ===========\n",
      "The processing of the request took a lot of time (20 sec). By repeatedly making slow requests your account will be automatically disabled.\n",
      "===============================\n",
      "Number of articles: 15000\n"
     ]
    }
   ],
   "source": [
    "q = QueryArticlesIter(conceptUri = er.getConceptUri(\"Politics\"),\n",
    "                      lang = \"eng\",\n",
    "                      sourceUri = QueryItems.OR([er.getNewsSourceUri(source) for source in sources]),\n",
    "                      dateStart = \"2018-01-01\",\n",
    "                      dateEnd = \"2019-04-01\")\n",
    "\n",
    "res = q.execQuery(er, sortBy = \"date\")\n",
    "\n",
    "print(\"Number of articles:\", q.count(er))"
   ]
  },
  {
   "cell_type": "code",
   "execution_count": null,
   "metadata": {
    "collapsed": true
   },
   "outputs": [],
   "source": [
    "titles = []\n",
    "sources = []\n",
    "contents = []\n",
    "for art in res:\n",
    "    titles.append(art['title'])\n",
    "    sources.append(art['source']['title'])\n",
    "    contents.append(art['body'])"
   ]
  },
  {
   "cell_type": "code",
   "execution_count": null,
   "metadata": {},
   "outputs": [],
   "source": [
    "print(collections.Counter(sources))\n",
    "\n",
    "df = pd.DataFrame(\n",
    "    {'title': titles,\n",
    "     'source': sources,\n",
    "     'body': contents,\n",
    "     'index': range(len(titles))\n",
    "    })\n",
    "\n",
    "df.to_csv(output_file, index=False)"
   ]
  },
  {
   "cell_type": "code",
   "execution_count": null,
   "metadata": {},
   "outputs": [],
   "source": [
    "articles = pd.read_csv(output_file)\n",
    "\n",
    "articles"
   ]
  },
  {
   "cell_type": "code",
   "execution_count": null,
   "metadata": {
    "collapsed": true
   },
   "outputs": [],
   "source": []
  }
 ],
 "metadata": {
  "kernelspec": {
   "display_name": "Python 3",
   "language": "python",
   "name": "python3"
  },
  "language_info": {
   "codemirror_mode": {
    "name": "ipython",
    "version": 3
   },
   "file_extension": ".py",
   "mimetype": "text/x-python",
   "name": "python",
   "nbconvert_exporter": "python",
   "pygments_lexer": "ipython3",
   "version": "3.6.1"
  }
 },
 "nbformat": 4,
 "nbformat_minor": 2
}
